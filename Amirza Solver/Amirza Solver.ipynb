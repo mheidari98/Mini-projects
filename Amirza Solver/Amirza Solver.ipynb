{
 "cells": [
  {
   "cell_type": "markdown",
   "id": "de82c6a6",
   "metadata": {},
   "source": [
    "# آمیرزا\n",
    "### To help my mother :)\n",
    "\n",
    "+ [google play](https://play.google.com/store/apps/details?id=com.BrainLadder.AmirzaGP)"
   ]
  },
  {
   "cell_type": "code",
   "execution_count": 1,
   "id": "e00c488f",
   "metadata": {},
   "outputs": [],
   "source": [
    "from itertools import permutations, chain"
   ]
  },
  {
   "cell_type": "code",
   "execution_count": null,
   "id": "da817cec",
   "metadata": {},
   "outputs": [],
   "source": []
  },
  {
   "cell_type": "code",
   "execution_count": 2,
   "id": "6ede1e4f",
   "metadata": {},
   "outputs": [],
   "source": [
    "chars = \"گ ن ا ر ی ل\"\n",
    "length = 6"
   ]
  },
  {
   "cell_type": "code",
   "execution_count": null,
   "id": "5304fde2",
   "metadata": {},
   "outputs": [],
   "source": []
  },
  {
   "cell_type": "code",
   "execution_count": 3,
   "id": "1a6a0c4a",
   "metadata": {},
   "outputs": [
    {
     "data": {
      "text/plain": [
       "32811"
      ]
     },
     "execution_count": 3,
     "metadata": {},
     "output_type": "execute_result"
    }
   ],
   "source": [
    "with open('db/selected.txt', encoding='utf-8') as f:\n",
    "    words = set([ word.strip() for word in f.read().splitlines() ])\n",
    "\n",
    "len(words)"
   ]
  },
  {
   "cell_type": "code",
   "execution_count": null,
   "id": "08c11931",
   "metadata": {},
   "outputs": [],
   "source": []
  },
  {
   "cell_type": "code",
   "execution_count": 4,
   "id": "b4a2af85",
   "metadata": {
    "scrolled": false
   },
   "outputs": [
    {
     "data": {
      "text/plain": [
       "{'نارگیل', 'گلناری'}"
      ]
     },
     "execution_count": 4,
     "metadata": {},
     "output_type": "execute_result"
    }
   ],
   "source": [
    "charsList = list(chars.replace(' ', ''))\n",
    "\n",
    "#res = set(map(''.join, chain.from_iterable( [permutations(charsList, length) for length in range(3, len(charsList)+1)] )))\n",
    "res = set(map(''.join, chain.from_iterable( [permutations(charsList, length)] )))\n",
    "\n",
    "res.intersection(words)"
   ]
  },
  {
   "cell_type": "code",
   "execution_count": null,
   "id": "1767241b",
   "metadata": {},
   "outputs": [],
   "source": []
  },
  {
   "cell_type": "code",
   "execution_count": null,
   "id": "fa9fb54c",
   "metadata": {},
   "outputs": [],
   "source": []
  }
 ],
 "metadata": {
  "kernelspec": {
   "display_name": "Python 3 (ipykernel)",
   "language": "python",
   "name": "python3"
  },
  "language_info": {
   "codemirror_mode": {
    "name": "ipython",
    "version": 3
   },
   "file_extension": ".py",
   "mimetype": "text/x-python",
   "name": "python",
   "nbconvert_exporter": "python",
   "pygments_lexer": "ipython3",
   "version": "3.8.3"
  }
 },
 "nbformat": 4,
 "nbformat_minor": 5
}
